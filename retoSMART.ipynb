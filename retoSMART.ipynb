{
  "cells": [
    {
      "cell_type": "markdown",
      "metadata": {
        "id": "vqo6a8f1FKGI"
      },
      "source": [
        "# Reto\n",
        "**Diego Reyna Reyes A0167387**\n"
      ],
      "id": "vqo6a8f1FKGI"
    },
    {
      "cell_type": "markdown",
      "metadata": {
        "id": "WcpfcixuFVJE"
      },
      "source": [
        "En este notebook se buscará probar que bots suelen tener una interacción considerable con figuras políticas.\n",
        "\n",
        "Para lo lograr identificar lo usuarios que tienen una mayor posibilidad de ser bots, me basaré en el [Notebook realizado por HANNAH SUN](https://www.kaggle.com/code/hannahsuny/botnot-project).\n"
      ],
      "id": "WcpfcixuFVJE"
    },
    {
      "cell_type": "code",
      "execution_count": 24,
      "metadata": {
        "colab": {
          "base_uri": "https://localhost:8080/"
        },
        "id": "d29db9ca",
        "outputId": "321ff091-e9a0-4d88-e54b-f06e13f69f56"
      },
      "outputs": [
        {
          "output_type": "stream",
          "name": "stdout",
          "text": [
            "Looking in indexes: https://pypi.org/simple, https://us-python.pkg.dev/colab-wheels/public/simple/\n",
            "Requirement already satisfied: wordcloud in /usr/local/lib/python3.9/dist-packages (1.8.2.2)\n",
            "Requirement already satisfied: numpy>=1.6.1 in /usr/local/lib/python3.9/dist-packages (from wordcloud) (1.22.4)\n",
            "Requirement already satisfied: matplotlib in /usr/local/lib/python3.9/dist-packages (from wordcloud) (3.7.1)\n",
            "Requirement already satisfied: pillow in /usr/local/lib/python3.9/dist-packages (from wordcloud) (8.4.0)\n",
            "Requirement already satisfied: contourpy>=1.0.1 in /usr/local/lib/python3.9/dist-packages (from matplotlib->wordcloud) (1.0.7)\n",
            "Requirement already satisfied: importlib-resources>=3.2.0 in /usr/local/lib/python3.9/dist-packages (from matplotlib->wordcloud) (5.12.0)\n",
            "Requirement already satisfied: fonttools>=4.22.0 in /usr/local/lib/python3.9/dist-packages (from matplotlib->wordcloud) (4.39.2)\n",
            "Requirement already satisfied: kiwisolver>=1.0.1 in /usr/local/lib/python3.9/dist-packages (from matplotlib->wordcloud) (1.4.4)\n",
            "Requirement already satisfied: cycler>=0.10 in /usr/local/lib/python3.9/dist-packages (from matplotlib->wordcloud) (0.11.0)\n",
            "Requirement already satisfied: pyparsing>=2.3.1 in /usr/local/lib/python3.9/dist-packages (from matplotlib->wordcloud) (3.0.9)\n",
            "Requirement already satisfied: python-dateutil>=2.7 in /usr/local/lib/python3.9/dist-packages (from matplotlib->wordcloud) (2.8.2)\n",
            "Requirement already satisfied: packaging>=20.0 in /usr/local/lib/python3.9/dist-packages (from matplotlib->wordcloud) (23.0)\n",
            "Requirement already satisfied: zipp>=3.1.0 in /usr/local/lib/python3.9/dist-packages (from importlib-resources>=3.2.0->matplotlib->wordcloud) (3.15.0)\n",
            "Requirement already satisfied: six>=1.5 in /usr/local/lib/python3.9/dist-packages (from python-dateutil>=2.7->matplotlib->wordcloud) (1.16.0)\n"
          ]
        }
      ],
      "source": [
        "import pandas as pd\n",
        "import numpy as np\n",
        "import matplotlib.pyplot as plt\n",
        "import seaborn as sb\n",
        "from sklearn.cluster import KMeans\n",
        "from sklearn.metrics import pairwise_distances_argmin_min\n",
        "from sklearn import preprocessing\n",
        "import seaborn as sns\n",
        "import re\n",
        "from sklearn.preprocessing import MinMaxScaler\n",
        "!pip install wordcloud\n",
        "from wordcloud import WordCloud\n",
        "\n",
        "%matplotlib inline\n",
        "from mpl_toolkits.mplot3d import Axes3D\n",
        "plt.rcParams['figure.figsize'] = (16, 9)\n",
        "plt.style.use('ggplot')"
      ],
      "id": "d29db9ca"
    },
    {
      "cell_type": "markdown",
      "metadata": {
        "id": "VR4tcmnHF7Cb"
      },
      "source": [
        "## Lectura de los datos\n",
        "\n",
        "Se obtienen los datos del archivo *covid19_tweets.csv*"
      ],
      "id": "VR4tcmnHF7Cb"
    },
    {
      "cell_type": "code",
      "execution_count": 43,
      "metadata": {
        "colab": {
          "base_uri": "https://localhost:8080/",
          "height": 424
        },
        "id": "d098936f",
        "outputId": "1f5ce98c-3048-402e-954b-e13062c53a40"
      },
      "outputs": [
        {
          "output_type": "execute_result",
          "data": {
            "text/plain": [
              "         user_name         user_location  \\\n",
              "0           ᏉᎥ☻լꂅϮ            astroworld   \n",
              "1    Tom Basile 🇺🇸          New York, NY   \n",
              "2  Time4fisticuffs      Pewee Valley, KY   \n",
              "3      ethel mertz  Stuck in the Middle    \n",
              "4         DIPR-J&K     Jammu and Kashmir   \n",
              "\n",
              "                                    user_description         user_created  \\\n",
              "0  wednesday addams as a disney princess keepin i...  2017-05-26 05:46:42   \n",
              "1  Husband, Father, Columnist & Commentator. Auth...  2009-04-16 20:06:23   \n",
              "2  #Christian #Catholic #Conservative #Reagan #Re...  2009-02-28 18:57:41   \n",
              "3  #Browns #Indians #ClevelandProud #[]_[] #Cavs ...  2019-03-07 01:45:06   \n",
              "4  🖊️Official Twitter handle of Department of Inf...  2017-02-12 06:45:15   \n",
              "\n",
              "   user_followers  user_friends  user_favourites  user_verified  \\\n",
              "0             624           950            18775          False   \n",
              "1            2253          1677               24           True   \n",
              "2            9275          9525             7254          False   \n",
              "3             197           987             1488          False   \n",
              "4          101009           168              101          False   \n",
              "\n",
              "                  date                                               text  \\\n",
              "0  2020-07-25 12:27:21  If I smelled the scent of hand sanitizers toda...   \n",
              "1  2020-07-25 12:27:17  Hey @Yankees @YankeesPR and @MLB - wouldn't it...   \n",
              "2  2020-07-25 12:27:14  @diane3443 @wdunlap @realDonaldTrump Trump nev...   \n",
              "3  2020-07-25 12:27:10  @brookbanktv The one gift #COVID19 has give me...   \n",
              "4  2020-07-25 12:27:08  25 July : Media Bulletin on Novel #CoronaVirus...   \n",
              "\n",
              "                            hashtags               source  is_retweet  \n",
              "0                                NaN   Twitter for iPhone       False  \n",
              "1                                NaN  Twitter for Android       False  \n",
              "2                        ['COVID19']  Twitter for Android       False  \n",
              "3                        ['COVID19']   Twitter for iPhone       False  \n",
              "4  ['CoronaVirusUpdates', 'COVID19']  Twitter for Android       False  "
            ],
            "text/html": [
              "\n",
              "  <div id=\"df-96cea6ba-48c5-4622-8474-46908268f8c3\">\n",
              "    <div class=\"colab-df-container\">\n",
              "      <div>\n",
              "<style scoped>\n",
              "    .dataframe tbody tr th:only-of-type {\n",
              "        vertical-align: middle;\n",
              "    }\n",
              "\n",
              "    .dataframe tbody tr th {\n",
              "        vertical-align: top;\n",
              "    }\n",
              "\n",
              "    .dataframe thead th {\n",
              "        text-align: right;\n",
              "    }\n",
              "</style>\n",
              "<table border=\"1\" class=\"dataframe\">\n",
              "  <thead>\n",
              "    <tr style=\"text-align: right;\">\n",
              "      <th></th>\n",
              "      <th>user_name</th>\n",
              "      <th>user_location</th>\n",
              "      <th>user_description</th>\n",
              "      <th>user_created</th>\n",
              "      <th>user_followers</th>\n",
              "      <th>user_friends</th>\n",
              "      <th>user_favourites</th>\n",
              "      <th>user_verified</th>\n",
              "      <th>date</th>\n",
              "      <th>text</th>\n",
              "      <th>hashtags</th>\n",
              "      <th>source</th>\n",
              "      <th>is_retweet</th>\n",
              "    </tr>\n",
              "  </thead>\n",
              "  <tbody>\n",
              "    <tr>\n",
              "      <th>0</th>\n",
              "      <td>ᏉᎥ☻լꂅϮ</td>\n",
              "      <td>astroworld</td>\n",
              "      <td>wednesday addams as a disney princess keepin i...</td>\n",
              "      <td>2017-05-26 05:46:42</td>\n",
              "      <td>624</td>\n",
              "      <td>950</td>\n",
              "      <td>18775</td>\n",
              "      <td>False</td>\n",
              "      <td>2020-07-25 12:27:21</td>\n",
              "      <td>If I smelled the scent of hand sanitizers toda...</td>\n",
              "      <td>NaN</td>\n",
              "      <td>Twitter for iPhone</td>\n",
              "      <td>False</td>\n",
              "    </tr>\n",
              "    <tr>\n",
              "      <th>1</th>\n",
              "      <td>Tom Basile 🇺🇸</td>\n",
              "      <td>New York, NY</td>\n",
              "      <td>Husband, Father, Columnist &amp; Commentator. Auth...</td>\n",
              "      <td>2009-04-16 20:06:23</td>\n",
              "      <td>2253</td>\n",
              "      <td>1677</td>\n",
              "      <td>24</td>\n",
              "      <td>True</td>\n",
              "      <td>2020-07-25 12:27:17</td>\n",
              "      <td>Hey @Yankees @YankeesPR and @MLB - wouldn't it...</td>\n",
              "      <td>NaN</td>\n",
              "      <td>Twitter for Android</td>\n",
              "      <td>False</td>\n",
              "    </tr>\n",
              "    <tr>\n",
              "      <th>2</th>\n",
              "      <td>Time4fisticuffs</td>\n",
              "      <td>Pewee Valley, KY</td>\n",
              "      <td>#Christian #Catholic #Conservative #Reagan #Re...</td>\n",
              "      <td>2009-02-28 18:57:41</td>\n",
              "      <td>9275</td>\n",
              "      <td>9525</td>\n",
              "      <td>7254</td>\n",
              "      <td>False</td>\n",
              "      <td>2020-07-25 12:27:14</td>\n",
              "      <td>@diane3443 @wdunlap @realDonaldTrump Trump nev...</td>\n",
              "      <td>['COVID19']</td>\n",
              "      <td>Twitter for Android</td>\n",
              "      <td>False</td>\n",
              "    </tr>\n",
              "    <tr>\n",
              "      <th>3</th>\n",
              "      <td>ethel mertz</td>\n",
              "      <td>Stuck in the Middle</td>\n",
              "      <td>#Browns #Indians #ClevelandProud #[]_[] #Cavs ...</td>\n",
              "      <td>2019-03-07 01:45:06</td>\n",
              "      <td>197</td>\n",
              "      <td>987</td>\n",
              "      <td>1488</td>\n",
              "      <td>False</td>\n",
              "      <td>2020-07-25 12:27:10</td>\n",
              "      <td>@brookbanktv The one gift #COVID19 has give me...</td>\n",
              "      <td>['COVID19']</td>\n",
              "      <td>Twitter for iPhone</td>\n",
              "      <td>False</td>\n",
              "    </tr>\n",
              "    <tr>\n",
              "      <th>4</th>\n",
              "      <td>DIPR-J&amp;K</td>\n",
              "      <td>Jammu and Kashmir</td>\n",
              "      <td>🖊️Official Twitter handle of Department of Inf...</td>\n",
              "      <td>2017-02-12 06:45:15</td>\n",
              "      <td>101009</td>\n",
              "      <td>168</td>\n",
              "      <td>101</td>\n",
              "      <td>False</td>\n",
              "      <td>2020-07-25 12:27:08</td>\n",
              "      <td>25 July : Media Bulletin on Novel #CoronaVirus...</td>\n",
              "      <td>['CoronaVirusUpdates', 'COVID19']</td>\n",
              "      <td>Twitter for Android</td>\n",
              "      <td>False</td>\n",
              "    </tr>\n",
              "  </tbody>\n",
              "</table>\n",
              "</div>\n",
              "      <button class=\"colab-df-convert\" onclick=\"convertToInteractive('df-96cea6ba-48c5-4622-8474-46908268f8c3')\"\n",
              "              title=\"Convert this dataframe to an interactive table.\"\n",
              "              style=\"display:none;\">\n",
              "        \n",
              "  <svg xmlns=\"http://www.w3.org/2000/svg\" height=\"24px\"viewBox=\"0 0 24 24\"\n",
              "       width=\"24px\">\n",
              "    <path d=\"M0 0h24v24H0V0z\" fill=\"none\"/>\n",
              "    <path d=\"M18.56 5.44l.94 2.06.94-2.06 2.06-.94-2.06-.94-.94-2.06-.94 2.06-2.06.94zm-11 1L8.5 8.5l.94-2.06 2.06-.94-2.06-.94L8.5 2.5l-.94 2.06-2.06.94zm10 10l.94 2.06.94-2.06 2.06-.94-2.06-.94-.94-2.06-.94 2.06-2.06.94z\"/><path d=\"M17.41 7.96l-1.37-1.37c-.4-.4-.92-.59-1.43-.59-.52 0-1.04.2-1.43.59L10.3 9.45l-7.72 7.72c-.78.78-.78 2.05 0 2.83L4 21.41c.39.39.9.59 1.41.59.51 0 1.02-.2 1.41-.59l7.78-7.78 2.81-2.81c.8-.78.8-2.07 0-2.86zM5.41 20L4 18.59l7.72-7.72 1.47 1.35L5.41 20z\"/>\n",
              "  </svg>\n",
              "      </button>\n",
              "      \n",
              "  <style>\n",
              "    .colab-df-container {\n",
              "      display:flex;\n",
              "      flex-wrap:wrap;\n",
              "      gap: 12px;\n",
              "    }\n",
              "\n",
              "    .colab-df-convert {\n",
              "      background-color: #E8F0FE;\n",
              "      border: none;\n",
              "      border-radius: 50%;\n",
              "      cursor: pointer;\n",
              "      display: none;\n",
              "      fill: #1967D2;\n",
              "      height: 32px;\n",
              "      padding: 0 0 0 0;\n",
              "      width: 32px;\n",
              "    }\n",
              "\n",
              "    .colab-df-convert:hover {\n",
              "      background-color: #E2EBFA;\n",
              "      box-shadow: 0px 1px 2px rgba(60, 64, 67, 0.3), 0px 1px 3px 1px rgba(60, 64, 67, 0.15);\n",
              "      fill: #174EA6;\n",
              "    }\n",
              "\n",
              "    [theme=dark] .colab-df-convert {\n",
              "      background-color: #3B4455;\n",
              "      fill: #D2E3FC;\n",
              "    }\n",
              "\n",
              "    [theme=dark] .colab-df-convert:hover {\n",
              "      background-color: #434B5C;\n",
              "      box-shadow: 0px 1px 3px 1px rgba(0, 0, 0, 0.15);\n",
              "      filter: drop-shadow(0px 1px 2px rgba(0, 0, 0, 0.3));\n",
              "      fill: #FFFFFF;\n",
              "    }\n",
              "  </style>\n",
              "\n",
              "      <script>\n",
              "        const buttonEl =\n",
              "          document.querySelector('#df-96cea6ba-48c5-4622-8474-46908268f8c3 button.colab-df-convert');\n",
              "        buttonEl.style.display =\n",
              "          google.colab.kernel.accessAllowed ? 'block' : 'none';\n",
              "\n",
              "        async function convertToInteractive(key) {\n",
              "          const element = document.querySelector('#df-96cea6ba-48c5-4622-8474-46908268f8c3');\n",
              "          const dataTable =\n",
              "            await google.colab.kernel.invokeFunction('convertToInteractive',\n",
              "                                                     [key], {});\n",
              "          if (!dataTable) return;\n",
              "\n",
              "          const docLinkHtml = 'Like what you see? Visit the ' +\n",
              "            '<a target=\"_blank\" href=https://colab.research.google.com/notebooks/data_table.ipynb>data table notebook</a>'\n",
              "            + ' to learn more about interactive tables.';\n",
              "          element.innerHTML = '';\n",
              "          dataTable['output_type'] = 'display_data';\n",
              "          await google.colab.output.renderOutput(dataTable, element);\n",
              "          const docLink = document.createElement('div');\n",
              "          docLink.innerHTML = docLinkHtml;\n",
              "          element.appendChild(docLink);\n",
              "        }\n",
              "      </script>\n",
              "    </div>\n",
              "  </div>\n",
              "  "
            ]
          },
          "metadata": {},
          "execution_count": 43
        }
      ],
      "source": [
        "dataframe = pd.read_csv(\"covid19_tweets.csv\")\n",
        "dataframe.head()"
      ],
      "id": "d098936f"
    },
    {
      "cell_type": "code",
      "source": [
        "NullFriends = dataframe[dataframe[\"user_friends\"] == 0]\n",
        "print('numero de cuentas sin amigos')\n",
        "len(NullFriends)"
      ],
      "metadata": {
        "colab": {
          "base_uri": "https://localhost:8080/"
        },
        "id": "2J7jv2ZOno_u",
        "outputId": "0585ac27-bd0f-4ca6-ee9d-0eccdbdd9d5d"
      },
      "id": "2J7jv2ZOno_u",
      "execution_count": 36,
      "outputs": [
        {
          "output_type": "stream",
          "name": "stdout",
          "text": [
            "numero de cuentas sin amigos\n"
          ]
        },
        {
          "output_type": "execute_result",
          "data": {
            "text/plain": [
              "1152"
            ]
          },
          "metadata": {},
          "execution_count": 36
        }
      ]
    },
    {
      "cell_type": "code",
      "source": [
        "cuentanoverificada = dataframe.loc[dataframe['user_verified'] == False]\n"
      ],
      "metadata": {
        "id": "NzCTdw1PzCuX"
      },
      "id": "NzCTdw1PzCuX",
      "execution_count": 62,
      "outputs": []
    },
    {
      "cell_type": "code",
      "source": [
        "conteo = len(cuentanoverificada)\n",
        "print('numero de cuentas no verificadas')\n",
        "print(conteo)"
      ],
      "metadata": {
        "colab": {
          "base_uri": "https://localhost:8080/"
        },
        "id": "UZc8cpQ26-NM",
        "outputId": "07327578-e0de-4ab2-8a6b-422e45e1ccd5"
      },
      "id": "UZc8cpQ26-NM",
      "execution_count": 63,
      "outputs": [
        {
          "output_type": "stream",
          "name": "stdout",
          "text": [
            "numero de cuentas no verificadas\n",
            "65082\n"
          ]
        }
      ]
    },
    {
      "cell_type": "code",
      "source": [
        "web = dataframe.loc[dataframe['source'] == 'Twitter Web App']\n",
        "conteo1 = len(web)\n",
        "print('numero de tuits en web')\n",
        "print(conteo1)"
      ],
      "metadata": {
        "colab": {
          "base_uri": "https://localhost:8080/"
        },
        "id": "fUEusNhG7x0z",
        "outputId": "33629eba-b11e-4963-f530-247fcd7973b1"
      },
      "id": "fUEusNhG7x0z",
      "execution_count": 67,
      "outputs": [
        {
          "output_type": "stream",
          "name": "stdout",
          "text": [
            "numero de tuits en web\n",
            "22974\n"
          ]
        }
      ]
    },
    {
      "cell_type": "code",
      "source": [
        "android = dataframe.loc[dataframe['source'] == 'Twitter for Android']\n",
        "conteo2 = len(android)\n",
        "print('numero de tuits en android')\n",
        "print(conteo2)"
      ],
      "metadata": {
        "colab": {
          "base_uri": "https://localhost:8080/"
        },
        "id": "eBDhA2g68uWC",
        "outputId": "80c21bc8-ae06-4856-a503-1373a2794062"
      },
      "id": "eBDhA2g68uWC",
      "execution_count": 70,
      "outputs": [
        {
          "output_type": "stream",
          "name": "stdout",
          "text": [
            "numero de tuits en android\n",
            "16758\n"
          ]
        }
      ]
    },
    {
      "cell_type": "code",
      "source": [
        "iphone = dataframe.loc[dataframe['source'] == 'Twitter for iPhone']\n",
        "conteo3 = len(iphone)\n",
        "print('numero de tuits en iphone')\n",
        "print(conteo3)"
      ],
      "metadata": {
        "colab": {
          "base_uri": "https://localhost:8080/"
        },
        "id": "cGX9b8un-rDv",
        "outputId": "1e405791-0a0e-4175-ce08-96dc714cf2c0"
      },
      "id": "cGX9b8un-rDv",
      "execution_count": 71,
      "outputs": [
        {
          "output_type": "stream",
          "name": "stdout",
          "text": [
            "numero de tuits en iphone\n",
            "15824\n"
          ]
        }
      ]
    },
    {
      "cell_type": "code",
      "execution_count": 38,
      "metadata": {
        "colab": {
          "base_uri": "https://localhost:8080/"
        },
        "id": "noMekaibJxKV",
        "outputId": "0b250838-c988-45a1-dce7-9774dd4eb107"
      },
      "outputs": [
        {
          "output_type": "execute_result",
          "data": {
            "text/plain": [
              "user_name               0\n",
              "user_location       15218\n",
              "user_description     4357\n",
              "user_created            0\n",
              "user_followers          0\n",
              "user_friends            0\n",
              "user_favourites         0\n",
              "user_verified           0\n",
              "date                    0\n",
              "text                    0\n",
              "hashtags            21434\n",
              "source                 12\n",
              "is_retweet              0\n",
              "dtype: int64"
            ]
          },
          "metadata": {},
          "execution_count": 38
        }
      ],
      "source": [
        "dataframe.isnull().sum()"
      ],
      "id": "noMekaibJxKV"
    },
    {
      "cell_type": "code",
      "source": [
        "botsiphone = dataframe.loc[(dataframe['user_location'].isnull()) & (dataframe['user_description'].isnull()) & (dataframe['user_verified'] == False) & (dataframe['source'] == 'Twitter for iPhone')]\n",
        "total = len(botsiphone)\n",
        "print('numero de bots en iphone')\n",
        "print(total)"
      ],
      "metadata": {
        "colab": {
          "base_uri": "https://localhost:8080/"
        },
        "id": "B3FZjaAK_f4O",
        "outputId": "9debd1d5-36b4-4877-ad6f-90b900adfb21"
      },
      "id": "B3FZjaAK_f4O",
      "execution_count": 73,
      "outputs": [
        {
          "output_type": "stream",
          "name": "stdout",
          "text": [
            "numero de bots en iphone\n",
            "634\n"
          ]
        }
      ]
    },
    {
      "cell_type": "code",
      "source": [
        "botsandroid = dataframe.loc[(dataframe['user_location'].isnull()) & (dataframe['user_description'].isnull()) & (dataframe['user_verified'] == False) & (dataframe['source'] == 'Twitter for Android')]\n",
        "total = len(botsandroid)\n",
        "print('numero de bots en android')\n",
        "print(total)"
      ],
      "metadata": {
        "colab": {
          "base_uri": "https://localhost:8080/"
        },
        "id": "dYf0dVYKCdL1",
        "outputId": "ffe6e6a3-e466-4e81-d11a-36e1959e9d08"
      },
      "id": "dYf0dVYKCdL1",
      "execution_count": 75,
      "outputs": [
        {
          "output_type": "stream",
          "name": "stdout",
          "text": [
            "numero de bots en android\n",
            "725\n"
          ]
        }
      ]
    },
    {
      "cell_type": "code",
      "source": [
        "botsweb = dataframe.loc[(dataframe['user_location'].isnull()) & (dataframe['user_description'].isnull()) & (dataframe['user_verified'] == False) & (dataframe['source'] == 'Twitter Web App')]\n",
        "total = len(botsweb)\n",
        "print('numero de bots en iphone')\n",
        "print(total)"
      ],
      "metadata": {
        "colab": {
          "base_uri": "https://localhost:8080/"
        },
        "id": "onE434XJC-f9",
        "outputId": "1f478564-b722-4a63-c7c0-a44082986a42"
      },
      "id": "onE434XJC-f9",
      "execution_count": 77,
      "outputs": [
        {
          "output_type": "stream",
          "name": "stdout",
          "text": [
            "numero de bots en iphone\n",
            "848\n"
          ]
        }
      ]
    },
    {
      "cell_type": "code",
      "source": [
        "categoria = ['web', 'android', 'iphone']\n",
        "valores = [22974, 16758, 15824]\n",
        "plt.bar(categoria, valores)"
      ],
      "metadata": {
        "colab": {
          "base_uri": "https://localhost:8080/",
          "height": 555
        },
        "id": "sqN595PuEIGi",
        "outputId": "eb535abb-52b2-4c4c-b06f-b4fdae699d90"
      },
      "id": "sqN595PuEIGi",
      "execution_count": 88,
      "outputs": [
        {
          "output_type": "execute_result",
          "data": {
            "text/plain": [
              "<BarContainer object of 3 artists>"
            ]
          },
          "metadata": {},
          "execution_count": 88
        },
        {
          "output_type": "display_data",
          "data": {
            "text/plain": [
              "<Figure size 1152x648 with 1 Axes>"
            ],
            "image/png": "[encoded data removed]"
          },
          "metadata": {}
        }
      ]
    },
    {
      "cell_type": "code",
      "source": [
        "categoria = ['botsweb', 'botsandroid', 'botsiphone']\n",
        "valores = [848, 725, 634]\n",
        "plt.bar(categoria, valores)"
      ],
      "metadata": {
        "colab": {
          "base_uri": "https://localhost:8080/",
          "height": 555
        },
        "id": "gWFXa-zIGSnm",
        "outputId": "b75fd063-bb2e-4082-811a-613266910d21"
      },
      "id": "gWFXa-zIGSnm",
      "execution_count": 85,
      "outputs": [
        {
          "output_type": "execute_result",
          "data": {
            "text/plain": [
              "<BarContainer object of 3 artists>"
            ]
          },
          "metadata": {},
          "execution_count": 85
        },
        {
          "output_type": "display_data",
          "data": {
            "text/plain": [
              "<Figure size 1152x648 with 1 Axes>"
            ],
            "image/png": "[encoded data removed]"
          },
          "metadata": {}
        }
      ]
    },
    {
      "cell_type": "markdown",
      "source": [
        "Conclusion \n",
        "Los bots estan mas presente en la apilicacion web de twitter ya que es mas usado la plataforma web. sin embargo, el que tiene mayor porcentaje de bots con respecto a sus usuarios legitimos es android.\n",
        "Aplique el limpiado de datos y el manejo de pandas para el manejo de csv y matplotlib para realizar graficas.\n",
        "No fue necesario el k means ya que implicaria abarcar todos los datos o especificar aun mas la busqueda con una restriccion, como la del texto repetido en tuits\n"
      ],
      "metadata": {
        "id": "s9L0vbCOJqam"
      },
      "id": "s9L0vbCOJqam"
    },
    {
      "cell_type": "markdown",
      "metadata": {
        "id": "Wbd0uH-qGPTd"
      },
      "source": [
        "## Detección de posibles bots\n",
        "\n",
        "El primer parámetro para detectar bots, se tomará en cuenta el tiempo entre la creación de la cuenta y su primera publicación.\n",
        "\n",
        "Para lograr esto, se extraen los datos de las columnas *user_created* y *date*"
      ],
      "id": "Wbd0uH-qGPTd"
    },
    {
      "cell_type": "code",
      "execution_count": null,
      "metadata": {
        "id": "4bd0242b"
      },
      "outputs": [],
      "source": [
        "dataframe['account_creation_date'] = dataframe['user_created'].str.slice(0, 10)\n",
        "dataframe['account_creation_date'] = dataframe['account_creation_date'].replace(\n",
        "    '-', '', regex=True).astype(str)\n",
        "dataframe.head()"
      ],
      "id": "4bd0242b"
    },
    {
      "cell_type": "code",
      "execution_count": null,
      "metadata": {
        "id": "f3e60a63"
      },
      "outputs": [],
      "source": [
        "dataframe['pub_date'] = dataframe['date'].str.slice(0, 10)\n",
        "dataframe['pub_date'] = dataframe['pub_date'].replace(\n",
        "    '-', '', regex=True).astype(str)\n",
        "dataframe.head()"
      ],
      "id": "f3e60a63"
    },
    {
      "cell_type": "code",
      "execution_count": null,
      "metadata": {
        "id": "mNFhAaWkknZo"
      },
      "outputs": [],
      "source": [
        "dataframe['user_created'] = pd.to_datetime(dataframe['user_created'])\n",
        "print(dataframe['user_created'])\n",
        "count_dates = dataframe['user_created'].value_counts()\n",
        "print(count_dates,\"<------Esto es count_date\")\n",
        "sorted_dates = count_dates.sort_values(ascending=False)\n",
        "print(sorted_dates.head(10),\"<------Esto es sorted_dates\")\n",
        "fecha_mas_antigua = dataframe['user_created'].min()\n",
        "print(fecha_mas_antigua)\n",
        "fechas_mas_antiguas = dataframe.nsmallest(10, 'user_created')['user_created']\n",
        "print('Las 10 fechas mas antiguas son:\\n',fechas_mas_antiguas)\n",
        "dataframe = dataframe.drop(dataframe.index[-1])\n",
        "fecha_mas_antigua = dataframe['user_created'].min()\n",
        "print(fecha_mas_antigua)\n",
        "fecha_mas_repetida = dataframe['user_created'].value_counts().idxmax()\n",
        "print(fecha_mas_repetida, \"<---Esta es la fecha que mas se repite\")\n",
        "promedio_repeticiones = dataframe['user_created'].value_counts().mean()\n",
        "print('El promedio de repeticiones de las fechas es:', promedio_repeticiones)\n",
        "conteos_fechas = dataframe['user_created'].value_counts()\n",
        "fechas_mas_repetidas = conteos_fechas[conteos_fechas < 3].index.tolist()\n",
        "print('Las fechas que se repiten más de 5 veces son:', fechas_mas_repetidas[5])\n",
        "conteos_fechas = dataframe['user_created'].value_counts()\n",
        "cantidad_fechas_mas_repetidas = sum(conteos_fechas > 3)\n",
        "print('La cantidad de fechas que se repiten más de 5 veces es:', cantidad_fechas_mas_repetidas)\n",
        "cantidad_fechas_menos_repetidas = sum(conteos_fechas < 3)\n",
        "print('La cantidad de fechas que se repiten menos de 5 veces es:', cantidad_fechas_menos_repetidas)\n"
      ],
      "id": "mNFhAaWkknZo"
    },
    {
      "cell_type": "markdown",
      "metadata": {
        "id": "kf8kUsBXHDuh"
      },
      "source": [
        "Tras extraer las fechas, se realiza la resta de ambos valores y se encuentra el valor menor para cada cuenta incluida en nuestro dataset"
      ],
      "id": "kf8kUsBXHDuh"
    },
    {
      "cell_type": "code",
      "execution_count": null,
      "metadata": {
        "id": "2526e95a"
      },
      "outputs": [],
      "source": [
        "dataframe[\"time_create_pub\"] = dataframe[\"pub_date\"].astype(int) - dataframe[\"account_creation_date\"].astype(int)\n",
        "df2_full = dataframe.sort_values(by = \"time_create_pub\").copy()\n",
        "df2 = dataframe.groupby(\"user_name\")\n",
        "df2 = df2.time_create_pub.min()\n",
        "df2 = pd.DataFrame(df2).sort_values(by = \"time_create_pub\")\n",
        "df2.loc[df2['time_create_pub'] > 150000, 'time_create_pub'] = 150000 #Eliminar casos de fechas registradas antes de la creación de twitter"
      ],
      "id": "2526e95a"
    },
    {
      "cell_type": "markdown",
      "metadata": {
        "id": "Jta7wmHeKssp"
      },
      "source": [
        "Otro de los parámetros a utilizar es la relación entre usuarios seguidos y seguidores, esto, de acuerdo con lo estipulado con el Notebook mencionado en la introducción; el fundamento viene de que muchas cuentas de bots son utilizadas para seguir a otros bots o a alguena cuenta objetivo."
      ],
      "id": "Jta7wmHeKssp"
    },
    {
      "cell_type": "code",
      "execution_count": null,
      "metadata": {
        "id": "i9rZiP9hKyaJ"
      },
      "outputs": [],
      "source": [
        "df3 = dataframe.copy()\n",
        "df3['follow_ratio'] = df3[\"user_friends\"]/df3[\"user_followers\"]\n",
        "df3.loc[np.isnan(df3['follow_ratio']), 'follow_ratio'] = 0\n",
        "df3.loc[np.isinf(df3['follow_ratio']), 'follow_ratio'] = 0\n",
        "df3 = df3.groupby(\"user_name\")\n",
        "df3 = df3.follow_ratio.min()\n",
        "df3 = pd.DataFrame(df3)\n",
        "user_data = pd.merge(df2,df3, on = ['user_name'])\n"
      ],
      "id": "i9rZiP9hKyaJ"
    },
    {
      "cell_type": "markdown",
      "metadata": {
        "id": "YZA75l-1HmNu"
      },
      "source": [
        "Otro parámetro a utilizar es el número de hastags utilizados, ya que el uso de muchos hashtags puede indicar que se busca que la publicación tenga un mayor alcance, que es parte del objetivo de los bots."
      ],
      "id": "YZA75l-1HmNu"
    },
    {
      "cell_type": "code",
      "execution_count": null,
      "metadata": {
        "id": "3L3SoOhRQpG_"
      },
      "outputs": [],
      "source": [
        "#Encuentra el número de hastags en el texto\n",
        "def find_hash(text):\n",
        "  s = \".*\"\n",
        "  has = 0\n",
        "  temp = re.compile(s)\n",
        "  #Forma de identificar si el texto es Nan obtenida de:\n",
        "  #https://www.codespeedy.com/check-if-a-given-string-is-nan-in-python/\n",
        "  if not text != text:\n",
        "    for word in text.split(\" \"):\n",
        "        a = temp.findall(word)\n",
        "        if a != []:\n",
        "            has += 1\n",
        "  return has"
      ],
      "id": "3L3SoOhRQpG_"
    },
    {
      "cell_type": "code",
      "execution_count": null,
      "metadata": {
        "id": "UF0A3qe_QzYj"
      },
      "outputs": [],
      "source": [
        "df4 = dataframe.copy()\n",
        "df4['n_hashtag'] = df4['hashtags'].apply(find_hash)\n",
        "df4 = df4.groupby(\"user_name\")\n",
        "df4 = df4.n_hashtag.mean()\n",
        "df4 = pd.DataFrame(df4)\n",
        "user_data = pd.merge(user_data,df4, on = ['user_name'])"
      ],
      "id": "UF0A3qe_QzYj"
    },
    {
      "cell_type": "markdown",
      "metadata": {
        "id": "IEhN93efIQBU"
      },
      "source": [
        "Nuestro parámettro final es la presencia de una descripción de usuario, ya que la falta de esta, puede indicar que la cuenta no corresponde a un usuario."
      ],
      "id": "IEhN93efIQBU"
    },
    {
      "cell_type": "code",
      "execution_count": null,
      "metadata": {
        "id": "VP9HlR8cVYtj"
      },
      "outputs": [],
      "source": [
        "df5 = dataframe.copy()\n",
        "df5.loc[df5['user_description'] != df5['user_description'], 'has_description'] = 0\n",
        "df5.loc[df5['user_description'] == df5['user_description'], 'has_description'] = 1\n",
        "df5 = df5.groupby(\"user_name\")\n",
        "df5 = df5.has_description.mean()\n",
        "df5 = pd.DataFrame(df5)\n",
        "user_data = pd.merge(user_data,df5, on = ['user_name'])"
      ],
      "id": "VP9HlR8cVYtj"
    },
    {
      "cell_type": "markdown",
      "metadata": {
        "id": "pFO_sWdgIeXf"
      },
      "source": [
        "### Visualización de los datos obtenidos"
      ],
      "id": "pFO_sWdgIeXf"
    },
    {
      "cell_type": "code",
      "execution_count": null,
      "metadata": {
        "id": "0XqD71R2WkyV"
      },
      "outputs": [],
      "source": [
        "user_data.hist()"
      ],
      "id": "0XqD71R2WkyV"
    },
    {
      "cell_type": "markdown",
      "metadata": {
        "id": "DCF-mS07IxQI"
      },
      "source": [
        "### Normalización de los datos\n",
        "Tras haber obtenido los datos, se normalizan a un rango \\[0-1\\], esto con el objetivo que los 4 parámetros estén en el mismo rango y su contribución a la probabilidad esté completamente definida por los pesos que se le asignen"
      ],
      "id": "DCF-mS07IxQI"
    },
    {
      "cell_type": "code",
      "execution_count": null,
      "metadata": {
        "id": "gpTjTpgDXB5j"
      },
      "outputs": [],
      "source": [
        "scaler = MinMaxScaler()\n",
        "scaler.fit(user_data[['time_create_pub','follow_ratio','n_hashtag','has_description']])\n",
        "user_data[['time_create_pub','follow_ratio','n_hashtag','has_description']] = scaler.transform(user_data[['time_create_pub','follow_ratio','n_hashtag','has_description']])\n"
      ],
      "id": "gpTjTpgDXB5j"
    },
    {
      "cell_type": "markdown",
      "metadata": {
        "id": "GlD4visSJDz7"
      },
      "source": [
        "Se asignaron los siguientes pesos:\n",
        "\n",
        "*time_created_pub* - 2\n",
        "\n",
        "*follow_ratio* - 1\n",
        "\n",
        "*n_hashtag* - 1\n",
        "\n",
        "*has_description* - 1\n",
        "\n",
        "Para poder obtener un puntaje, el tiempo de creación será restado a 1, debido a que si este tiempo es menor, aumenta la probabilidad de que el usuario se trate de un bot. Paralelamente, el valor de *has_description* está negado para que aquellos usuarios sin descripción tengan una probabilidad mayor. "
      ],
      "id": "GlD4visSJDz7"
    },
    {
      "cell_type": "code",
      "execution_count": null,
      "metadata": {
        "id": "juXqPwReZThZ"
      },
      "outputs": [],
      "source": [
        "w = [2,1,1,1]\n",
        "max_probability = 1 * w[0] + 1 * w[1] + 1 * w[2] + 0 * w[3]\n",
        "user_data[\"bot_probability\"] = ((1 - user_data[\"time_create_pub\"]) * w[0] + user_data[\"follow_ratio\"] * w[1] + user_data[\"n_hashtag\"] * w[2] + (1 - user_data[\"has_description\"]) * w[3])/max_probability\n",
        "user_data[\"bot_probability\"].hist()"
      ],
      "id": "juXqPwReZThZ"
    },
    {
      "cell_type": "markdown",
      "metadata": {
        "id": "rBn4uIPLJvTl"
      },
      "source": [
        "### Selección de posibles bots\n",
        "\n",
        "Se seleccionaron aquellos usuarios con una probabilidad mayor al 60\\% de ser bots."
      ],
      "id": "rBn4uIPLJvTl"
    },
    {
      "cell_type": "code",
      "execution_count": null,
      "metadata": {
        "id": "yWveYR64a-SU"
      },
      "outputs": [],
      "source": [
        "possible_bot = user_data[user_data[\"bot_probability\"] > 0.6]\n",
        "possible_bot[\"bot_probability\"].hist()"
      ],
      "id": "yWveYR64a-SU"
    },
    {
      "cell_type": "markdown",
      "metadata": {
        "id": "mNYlxIWMJ5JI"
      },
      "source": [
        "## Análisis de las publicaciones\n",
        "\n",
        "Se mantienen solamente aquellas publicaciones de los usuarios sospechosos"
      ],
      "id": "mNYlxIWMJ5JI"
    },
    {
      "cell_type": "code",
      "execution_count": null,
      "metadata": {
        "id": "75Bl_8kWbrRI"
      },
      "outputs": [],
      "source": [
        "bot_tweets = pd.merge(possible_bot,dataframe.copy(), on='user_name')"
      ],
      "id": "75Bl_8kWbrRI"
    },
    {
      "cell_type": "markdown",
      "metadata": {
        "id": "0c0b8c76"
      },
      "source": [
        "## Generación de nube de palabras\n",
        "Como parte del análisis, se realiza una nube de palabras para todas las publicaciones registradas, y todas aquellas realizadas por los usuarios sospechosos, con el objetivo de ver si hay una diferencia significativa a simple vista.\n",
        "\n",
        "Estas nubes de palabras son creadas con base en el tutorial de [datanizing GmbH](https://medium.com/@datanizing/modern-text-mining-with-python-part-2-of-5-data-exploration-with-pandas-ee3456cf6a4) y el código proporcionado por Sergio Ruíz "
      ],
      "id": "0c0b8c76"
    },
    {
      "cell_type": "code",
      "execution_count": null,
      "metadata": {
        "id": "e17d5f3d"
      },
      "outputs": [],
      "source": [
        "def text_cleaner(text):\n",
        "    text = re.sub(r\"\\n\",\" \", str(text)) \n",
        "    text = re.sub (r\"\\t\",\" \", str(text))\n",
        "    text = re.sub (r\"\\r\", \" \", str(text))\n",
        "    text = re.sub(r\"(@)|(#)|(RT[\\s]+)|(https?:\\/\\/\\S+)|([^a-zA-Z0-9 -])\", \" \", str(text))\n",
        "    text = text.strip(\" \")\n",
        "    return text\n"
      ],
      "id": "e17d5f3d"
    },
    {
      "cell_type": "code",
      "execution_count": null,
      "metadata": {
        "id": "c2f5b5e4"
      },
      "outputs": [],
      "source": [
        "def wordclouder(string_column, name):\n",
        "    Words = ''.join([words for words in string_column])\n",
        "    wordcloud = WordCloud (width=1000, height = 600, random_state = 10, background_color=\"white\", max_words = 200)\n",
        "    wordcloud.generate(Words)\n",
        "    plt.style.use('fivethirtyeight')\n",
        "    plt.figure(figsize = (20,28))\n",
        "    plt.imshow(wordcloud, interpolation='bilinear')\n",
        "    plt.axis('off')\n",
        "    wordcloud.to_file(name)\n",
        "    plt.show()\n"
      ],
      "id": "c2f5b5e4"
    },
    {
      "cell_type": "markdown",
      "metadata": {
        "id": "m1MtYMFIKW92"
      },
      "source": [
        "### Nube de palabras para todos los registros"
      ],
      "id": "m1MtYMFIKW92"
    },
    {
      "cell_type": "code",
      "execution_count": null,
      "metadata": {
        "id": "0149e56c"
      },
      "outputs": [],
      "source": [
        "dataframe['text'] = dataframe['text'].apply(text_cleaner)\n",
        "wordclouder(dataframe['text'], \"tweets.png\")\n"
      ],
      "id": "0149e56c"
    },
    {
      "cell_type": "markdown",
      "metadata": {
        "id": "UrtWgA60Kd1F"
      },
      "source": [
        "### Nube de palabras para las publicaciones de los usuarios sospechosos"
      ],
      "id": "UrtWgA60Kd1F"
    },
    {
      "cell_type": "code",
      "execution_count": null,
      "metadata": {
        "id": "-2KI9S33P0bs"
      },
      "outputs": [],
      "source": [
        "bot_tweets['text_clean'] = bot_tweets['text'].apply(text_cleaner)\n",
        "wordclouder(bot_tweets['text_clean'], \"tweets_bot.png\")"
      ],
      "id": "-2KI9S33P0bs"
    },
    {
      "cell_type": "markdown",
      "metadata": {
        "id": "-FNyIyDsKjv1"
      },
      "source": [
        "## Detección de menciones\n",
        "\n",
        "Para comprobar la interacción entre los usuarios sospechosos y figuras políticas, se encontrarán las menciones que realizan estos usuarios"
      ],
      "id": "-FNyIyDsKjv1"
    },
    {
      "cell_type": "code",
      "execution_count": null,
      "metadata": {
        "id": "aAil38VCVfrO"
      },
      "outputs": [],
      "source": [
        "#Extrae las menciones dentro de un texto y regresa un string con los usuarios mencionados\n",
        "def find_at(text):\n",
        "  s = \"@.*\"\n",
        "  att = \"\"\n",
        "  temp = re.compile(s)\n",
        "  for word in text.split(\" \"):\n",
        "      a = temp.findall(word)\n",
        "      if a != []:\n",
        "          att += \" \" + a[0]\n",
        "  return att\n"
      ],
      "id": "aAil38VCVfrO"
    },
    {
      "cell_type": "markdown",
      "metadata": {
        "id": "XZ3DDwGlLde7"
      },
      "source": [
        "### Visuzalización de las menciones"
      ],
      "id": "XZ3DDwGlLde7"
    },
    {
      "cell_type": "code",
      "execution_count": null,
      "metadata": {
        "id": "gpJoOOKuWCeg"
      },
      "outputs": [],
      "source": [
        "bot_tweets['at'] = bot_tweets['text'].apply(find_at)\n",
        "\n",
        "wordclouder(bot_tweets['at'], \"tweets_bot_at.png\")"
      ],
      "id": "gpJoOOKuWCeg"
    },
    {
      "cell_type": "markdown",
      "metadata": {
        "id": "01rCXECyLvrA"
      },
      "source": [
        "### Obtención y contabilización de las menciones"
      ],
      "id": "01rCXECyLvrA"
    },
    {
      "cell_type": "code",
      "execution_count": null,
      "metadata": {
        "id": "25X1pBehjdHz"
      },
      "outputs": [],
      "source": [
        "#Extrae las menciones del texto obtenido por la función text_cleaner(find_at(text))\n",
        "def get_mentions(text):\n",
        "  mentions = []\n",
        "  for word in text.split(\" \"):\n",
        "      mentions.append(word.lower())\n",
        "  return mentions"
      ],
      "id": "25X1pBehjdHz"
    },
    {
      "cell_type": "code",
      "execution_count": null,
      "metadata": {
        "id": "sDTum4nvgJlP"
      },
      "outputs": [],
      "source": [
        "mentions = bot_tweets\n",
        "mentions['at_clean'] = bot_tweets['at'].apply(text_cleaner)"
      ],
      "id": "sDTum4nvgJlP"
    },
    {
      "cell_type": "code",
      "execution_count": null,
      "metadata": {
        "id": "VC9UitiYkR9N"
      },
      "outputs": [],
      "source": [
        "mentioned = pd.DataFrame(columns = ['user_name', 'mentions'])\n",
        "\n",
        "for text in mentions['at_clean']:\n",
        "  for m in get_mentions(text):\n",
        "    if m != \"\":\n",
        "      temp = pd.DataFrame({'user_name' : m, 'mentions' : 0}, index = [0])\n",
        "      mentioned = pd.concat([mentioned, temp], ignore_index = True)\n",
        "mentioned = mentioned.groupby(\"user_name\")\n",
        "mentioned = mentioned.user_name.count()\n",
        "mentioned = pd.DataFrame({'user_name':mentioned.index, 'count':mentioned.values})\n",
        "#Ordenar por vnumero de menciones\n",
        "mentioned = mentioned.sort_values(by = \"count\", ascending = False)\n",
        "mentioned = mentioned.reset_index()\n",
        "mentioned.head()"
      ],
      "id": "VC9UitiYkR9N"
    },
    {
      "cell_type": "code",
      "execution_count": null,
      "metadata": {
        "id": "wNC2nAVJpxIq"
      },
      "outputs": [],
      "source": [
        "#Se obtiene en términos de porcentaje del total de las menciones realizadas por los usuarios\n",
        "total_mentions = sum(mentioned[\"count\"])\n",
        "mentioned[\"percentage\"] = mentioned[\"count\"] / total_mentions * 100\n",
        "mentioned.head(20)"
      ],
      "id": "wNC2nAVJpxIq"
    },
    {
      "cell_type": "markdown",
      "metadata": {
        "id": "s4PjWrNBMA9L"
      },
      "source": [
        "### Resultados\n",
        "\n",
        "De las menciones encontradas, se busca encontrar que al menos el 30% están relacionadas a una figura política, por lo que se realizó una lista de las menciones más populares que no son políticos. Esta identificación fue realizada manualmente debido a las limitaciones de tiempo, ya que, si se continuara desarrollando este reto, se haría un análisis de la biografía de los usuarios mencionados para determinar si se tratan de figuras políticas"
      ],
      "id": "s4PjWrNBMA9L"
    },
    {
      "cell_type": "code",
      "execution_count": null,
      "metadata": {
        "id": "oKmHsiDWqZjR"
      },
      "outputs": [],
      "source": [
        "not_politician = [\"who\", \"cbseindia29\", \"carpetright\", \"cnn\", \"jim\", \"youtube\", \"wilfwalshesq\", \"jordan\", \"projectlincoln\", \"mohfw\",\"india\",\"thehill\",\"s\",\"mrchrisfixedodd\",\"news\",\n",
        "                  \"drericding\",\"nytimes\",\"bmz\",\"nationalnurses\",\"peta\",\"irish\",\"bund\",\"ani\",\"cp24\",\"sida\",\"mlb\",\"cdcgov\",\"alakh\",\"abc\",\"cbsnews\",\n",
        "                  \"rajender\",\"maggienyt\",\"donwinslow\",\"bbcnews\",\"bbnaija\",\"foxnews\",\"eatala\",\"elijahschaffer\",\"fda\",\"whowpro\",\"officialfv\",\n",
        "                  \"us\",\"ndtv\",\"airasia\",\"nbcnews\",\"dhsgov\",\"shelbycotn\",\"shelbytnhealth\",\"brettfavre\",\"ryanair\",\"ryanjespersen\",\"ssrajamouli\",\n",
        "                  \"davidmalpasswbg\",\"doniveson\",\"dbongino\",\"clinicalresea15\",\"dhs\",\"sanjeev\",\"drgsrao\",\"ctvtoronto\",\"com\",\"doug\",\"drsimonegold\",\n",
        "                  \"riversideca\",\"ferland\",\"irctcofficial\",\"j\",\"nidhiindiatv\",\"nhsuk\",\"jonathanvswan\",\"mvankerkhove\",\"kenya\",\"kgeorgieva\",\n",
        "                  \"kiituniversity\",\"momsrising\",\"kumarkunalmedia\",\"mkraju\",\"mike\",\"melissaleecnbc\",\"mauricedehond\",\"malema\",\"ingrahamangle\",\n",
        "                  \"nypost\",\"immanuel\",\"police\",\"fti\",\"gc\",\"global\",\"globaltimesnews\",\"gmb\",\"google\",\"ias\",\"grumpyolsoldier\",\"mcconnellpress\",\n",
        "                  \"paypal\",\"healthylivingmo\",\"hee\",\"highwiretalk\",\"httweets\",\"hul\",\"stella\",\"astro\",\"wolf\",\"wearepaha\",\"bbcbreaking\",\"usdot\",\n",
        "                  \"usps\",\"travisdhanraj\",\"abcnews\",\"adlittle\",\"teamknowhowuk\",\"allofusresearch\",\"thecenter\",\"tel\",\"adamfeuerstein\",\"ananavarro\",\n",
        "                  \"washingtonpost\",\"aap\",\"alexberenson\",\"sunrun\",\"unilever\",\"9news\",\"750adh\",\"yatesinvesting\",\"astrobehnken\",\"arogyaandhra\",\"askpaypal\",\n",
        "                  \"arvindkumar\",\"allen\",\"okcupid\",\"no1hollyfreedom\",\"npr\",\"nta\",\"officialwmas\",\"officialnairam1\",\"vfl2013\",\"okdemocrats\",\"odishafs\",\"virusesimmunity\",\n",
        "                  \"nycmcu\",\"nychealthsystem\",\"virginhotelsdal\",\"nydnsports\",\"oliveira1\",\"vinquisition\",\"viejobartender\",\"vidushinegi2\",\"viciedo\",\n",
        "                  \"oc\",\"odisha\",\"nycaudubon\",\"nyc\",\"oldschool1000\",\"oren\",\"omnivistech\",\"pedro53942070\",\"urocklive1\",\"urbandalecsd\",\"petehegseth\",\n",
        "                  \"pewresearch\",\"pfizer\",\"phe\",\"pj\",\"peacehealth\",\"pk63\",\"pkgman60\",\"pleadiancrystal\",\"unicefindia\",\"unesco\",\"umar\",\"pearl\",\n",
        "                  \"pdchinese\",\"vanonselenp\",\"opindia\",\"veritasvital\",\"veracityseeker3\",\"osborn\",\"otvnews\",\"pdchina\",\"oxforddiplomat\"]\n",
        "counted = 0\n",
        "i = 0\n",
        "top_mention = pd.DataFrame(columns = [\"user_name\",\"percentage\"])\n",
        "#Obtener los usuarios necesarios para tener el 30%\n",
        "while counted < 30 or i == len(mentioned[\"user_name\"]):\n",
        "  if mentioned[\"user_name\"][i] not in not_politician:\n",
        "    counted += mentioned[\"percentage\"][i]\n",
        "    temp = pd.DataFrame({'user_name' : mentioned[\"user_name\"][i], 'percentage' : mentioned[\"percentage\"][i]}, index = [0])\n",
        "    top_mention = pd.concat([top_mention, temp], ignore_index = True)\n",
        "  i += 1\n",
        "top_mention = top_mention.set_index(\"user_name\")\n",
        "print(\"Porcentaje estimado de menciones relacionadas a figuras políticas: {0:.2f}%\".format(counted))"
      ],
      "id": "oKmHsiDWqZjR"
    },
    {
      "cell_type": "markdown",
      "metadata": {
        "id": "aS0CHBAOMtVu"
      },
      "source": [
        "### Generación de gráfica de menciones"
      ],
      "id": "aS0CHBAOMtVu"
    },
    {
      "cell_type": "code",
      "execution_count": null,
      "metadata": {
        "id": "XHRBLTmJ72WZ"
      },
      "outputs": [],
      "source": [
        "n = 5\n",
        "temp = top_mention[0:n].copy()\n",
        "t = pd.DataFrame({'user_name' : \"Otras figuras políticas\", 'percentage' : top_mention[\"percentage\"][:n].sum()}, index = [0])\n",
        "t = t.set_index(\"user_name\")\n",
        "temp = pd.concat([temp, t])\n",
        "t = pd.DataFrame({'user_name' : \"Otras menciones\", 'percentage' : 100 - top_mention[\"percentage\"].sum()}, index = [0])\n",
        "t = t.set_index(\"user_name\")\n",
        "temp = pd.concat([temp, t])\n",
        "\n",
        "temp.plot.pie(y = \"percentage\", figsize = (10,30), colors=[\"red\", \"blue\", \"yellow\", \"pink\", \"green\", \"cyan\", \"orange\"])"
      ],
      "id": "XHRBLTmJ72WZ"
    },
    {
      "cell_type": "markdown",
      "metadata": {
        "id": "0vPswRWfNecL"
      },
      "source": [
        "## Conclusiones\n",
        "\n",
        "Como se puede observar, se obtuvo el porcentaje de figuras políticas mencionadas deseado (30%), sin embargo, cabe destacar que dicho análisis muestra personalidades políticas de todo el mundo, con una principal participación de figuras políticas de los EE.UU, lo que puede indicar una alta incidencia de bots en las políticas de dicho país. Esta información podría utilizarse en futuras aplicaciones para realizar un estudio más avanzado, en el que se tomen en cuenta el origen de dicha cuentas para aumentar o disminuir su posibilidad de ser un bot.\n",
        "\n",
        "### ¿Es posible incluir el uso del algoritmo Kmeans para apoyar con la descripción de los datos?\n",
        "\n",
        "Para obtener los resultados deseados no es necesario, ya que su escenario de uso estaría relacionado a la identificación de que usuarios son figuras políticas, se podría hacer un análisis del nombre de usuario y los contenidos de la biografía para determinar usuarios similares, que al determinar aquellos parecidos a un usuario previamente identificado como político, se pueden obtener usuarios similares a políticos. Sin embargo, debido a que el análisis buscado es en el número de menciones de usuarios y no en agruparlos, el análisis kmeans no resulta de utilidad para el alcance de esta actividad, ya que su función sería principalmente la de optimización y automatización de la identificación de usuarios.\n",
        "\n",
        "### Herramientas vistas durante el curso\n",
        "\n",
        "#### Regresión lineal\n",
        "\n",
        "Debido a que no se quieren realizar predicciones de nuevos datos, esta herramientas no fue utilizada, ya que esta es su función principal\n",
        "\n",
        "#### Carga de datos con Python/Pandas\n",
        "\n",
        "Esta herramienta fue utilizada para cargar los datos\n",
        "\n",
        "#### Visualización de estadística básica\n",
        "\n",
        "De las herramientas vistas en esta sección, se utilizó el histograma, ya que nos permite ver la distribución de los datos extrapolados de los provistos por el dataset, al igual que se utilizó el diagrama de pastel para poder visualizar los resultados. El diagrama de bigotes no fue utilizado debido a que se considera que no es necesario definir los cuartiles de la probabilidad para definir que procentaje usar, ya que no se sabe que porcentaje de los usuarios serían bots."
      ],
      "id": "0vPswRWfNecL"
    },
    {
      "cell_type": "markdown",
      "metadata": {
        "id": "274JaiRGamOr"
      },
      "source": [
        "## Daniel Rong Chen A01656992"
      ],
      "id": "274JaiRGamOr"
    },
    {
      "cell_type": "markdown",
      "metadata": {
        "id": "wq4r4MIOnOz3"
      },
      "source": [
        "Búsqueda de los días en donde los usuarios twitearon más. "
      ],
      "id": "wq4r4MIOnOz3"
    },
    {
      "cell_type": "code",
      "execution_count": null,
      "metadata": {
        "id": "TXBfxgjdl8_k"
      },
      "outputs": [],
      "source": [
        "dataframe[\"tweet_count\"] = 1\n",
        "\n",
        "dataframe[\"date\"] = pd.to_datetime(dataframe[\"date\"])\n",
        "tweets_por_dia = dataframe.groupby(dataframe['date'].dt.to_period('d')).sum()\n",
        "\n",
        "tweets_por_dia['tweet_count'].plot(kind = 'bar')"
      ],
      "id": "TXBfxgjdl8_k"
    },
    {
      "cell_type": "markdown",
      "metadata": {
        "id": "bE2VAB8znoGf"
      },
      "source": [
        "Desplegar histogramas para visualizar la informaición."
      ],
      "id": "bE2VAB8znoGf"
    },
    {
      "cell_type": "code",
      "execution_count": null,
      "metadata": {
        "id": "v42N7BlSmtbo"
      },
      "outputs": [],
      "source": [
        "dataframe['date'].hist()"
      ],
      "id": "v42N7BlSmtbo"
    },
    {
      "cell_type": "code",
      "execution_count": null,
      "metadata": {
        "id": "mq04yVoYmuUX"
      },
      "outputs": [],
      "source": [
        "dataframe.hist()"
      ],
      "id": "mq04yVoYmuUX"
    },
    {
      "cell_type": "markdown",
      "metadata": {
        "id": "qX9McNfCoZ2v"
      },
      "source": [
        "Hacer un dataframe con todos los tweets del día con más tweets."
      ],
      "id": "qX9McNfCoZ2v"
    },
    {
      "cell_type": "code",
      "execution_count": null,
      "metadata": {
        "id": "ltzUzZYNmwJd"
      },
      "outputs": [],
      "source": [
        "tweets_mas = dataframe.where(dataframe['date'].dt.day==25)\n",
        "df2 = pd.DataFrame(tweets_mas)\n",
        "df2"
      ],
      "id": "ltzUzZYNmwJd"
    },
    {
      "cell_type": "markdown",
      "metadata": {
        "id": "S4ZtjVZNox0c"
      },
      "source": [
        "Visualización en histograma de dicho dataframe."
      ],
      "id": "S4ZtjVZNox0c"
    },
    {
      "cell_type": "code",
      "execution_count": null,
      "metadata": {
        "id": "HxYpThj4m42K"
      },
      "outputs": [],
      "source": [
        "df2.hist()"
      ],
      "id": "HxYpThj4m42K"
    },
    {
      "cell_type": "markdown",
      "metadata": {
        "id": "7aB2DNBqo3Kt"
      },
      "source": [
        "Wordcloud para mostrar las palabras más comunes del día con más tweets."
      ],
      "id": "7aB2DNBqo3Kt"
    },
    {
      "cell_type": "code",
      "execution_count": null,
      "metadata": {
        "id": "z3Z1yae2m6UY"
      },
      "outputs": [],
      "source": [
        "df2['text'] = df2['text'].apply(text_cleaner)\n",
        "wordclouder(df2['text'], \"tweets.png\")"
      ],
      "id": "z3Z1yae2m6UY"
    },
    {
      "cell_type": "markdown",
      "metadata": {
        "id": "WBeC3lY4p2C1"
      },
      "source": [
        "### Conclusión\n",
        "\n",
        "Con base en el análisis realizado, se puede observar que los medios juegan un papel importante, ya que el contenido de estos influyen en la manera en la que pensamos. En este análisis se mostró la diferencia entre las palabras más comunes entre todos los datos y los del día con más tweets. \n",
        "\n",
        "### ¿Es posible incluir el uso del algoritmo Kmeans para apoyar con la descripción de los datos?\n",
        "\n",
        "En este caso en específico el uso de un algoritmo de Kmeans no es necesario, ya que lo que se prentende es analizar cómo los medios del día con más tweets afectaron la manera en la que las personas se estaban expresando en redes sociales. Sin embargo, el uso de k means puede ser útil para determinar los sentimientos de los mensajes y así categorizarlos y agruparlos. Por otra parte, otra implementación en la que sería útil sería para clasificar aspectos de personalidad de los usuarios. \n",
        "\n",
        "### Herramientas vistas durante el curso\n",
        "\n",
        "#### Visualización de datos\n",
        "\n",
        "Se empleo el uso de gráficas, como el histograma y las gráficas de barras, para visualizar y ver la distribución de los datos, y así saber los métodos de manipulación de datos necesarios para obtener los resultados esperados. \n",
        "\n",
        "#### Visualización de palabras más comunes\n",
        "\n",
        "Se empleo la herramienta de wordcloud para observar de manera gráfica la repetición de palabras.\n",
        "\n",
        "#### Carga de datos con Python/Pandas"
      ],
      "id": "WBeC3lY4p2C1"
    },
    {
      "cell_type": "markdown",
      "metadata": {
        "id": "lw3TvwIuuLW2"
      },
      "source": [
        "# RETO José Roberto Garduño Cerecedo A01656294\n",
        "\n",
        "### Mi objetivo es el poder responder la pregunta ¿Qué factores pudieron llegar a influir en la perspectiva y el impacto de la pandemia de Covid-19 en la red social de Twitter?\n",
        "\n",
        "## Importación de las librerias a usar y la lectura de la base de datos"
      ],
      "id": "lw3TvwIuuLW2"
    },
    {
      "cell_type": "code",
      "execution_count": null,
      "metadata": {
        "id": "6NYHNuQ4uPd6"
      },
      "outputs": [],
      "source": [
        "import pandas as pd\n",
        "import matplotlib.pyplot as plt\n",
        "import numpy as np\n",
        "import seaborn as sns\n",
        "\n",
        "# Leer el archivo csv con la base de datos de tweets\n",
        "tweets_df = pd.read_csv(r\"covid19_tweets.csv\")"
      ],
      "id": "6NYHNuQ4uPd6"
    },
    {
      "cell_type": "markdown",
      "metadata": {
        "id": "nFRSm6i7uTK8"
      },
      "source": [
        "## Obtención de la grafica del top 10 países con más tweets"
      ],
      "id": "nFRSm6i7uTK8"
    },
    {
      "cell_type": "code",
      "execution_count": null,
      "metadata": {
        "id": "UI_eW3D3uT5x"
      },
      "outputs": [],
      "source": [
        "# Cantidad de tweets por país\n",
        "tweets_por_pais = tweets_df.groupby(\"user_location\")[\"text\"].count().nlargest(10)\n",
        "tweets_por_pais.plot(kind=\"bar\", title=\"Top 10 países con más tweets\")"
      ],
      "id": "UI_eW3D3uT5x"
    },
    {
      "cell_type": "markdown",
      "metadata": {
        "id": "Dj8AaNc2uXh_"
      },
      "source": [
        "## Obtención de la gráfica del top 15 de usuarios con más tweets"
      ],
      "id": "Dj8AaNc2uXh_"
    },
    {
      "cell_type": "code",
      "execution_count": null,
      "metadata": {
        "id": "KTfodfDCuYcm"
      },
      "outputs": [],
      "source": [
        "# Top 30 usuarios con más tweets publicados\n",
        "top_30_usuarios = tweets_df.groupby(\"user_name\")[\"text\"].count().sort_values(ascending=False).head(15)\n",
        "top_30_usuarios.plot(kind=\"bar\", title=\"Top 15 usuarios con más tweets\")"
      ],
      "id": "KTfodfDCuYcm"
    },
    {
      "cell_type": "markdown",
      "metadata": {
        "id": "QJAogK60uaIv"
      },
      "source": [
        "## Creación de la gráfica del número de tweets publicados por día"
      ],
      "id": "QJAogK60uaIv"
    },
    {
      "cell_type": "code",
      "execution_count": null,
      "metadata": {
        "id": "MGRYUnSCucOJ"
      },
      "outputs": [],
      "source": [
        "tweets_df[\"tweet_count\"] = 1\n",
        "\n",
        "tweets_df[\"date\"]= pd.to_datetime(tweets_df[\"date\"])\n",
        "tweets_por_dia = tweets_df.groupby(tweets_df['date'].dt.to_period('d')).sum()\n",
        "\n",
        "tweets_por_dia['tweet_count'].plot(kind = 'bar')\n",
        "tweets_por_dia"
      ],
      "id": "MGRYUnSCucOJ"
    },
    {
      "cell_type": "markdown",
      "metadata": {
        "id": "ChMLN4yRue6Y"
      },
      "source": [
        "## Creación de gráficas de pastel representando la contribución de cada usuario del top 15 en el número de tweets publicados por día. "
      ],
      "id": "ChMLN4yRue6Y"
    },
    {
      "cell_type": "code",
      "execution_count": null,
      "metadata": {
        "id": "VyhlSJEtufoj"
      },
      "outputs": [],
      "source": [
        "# Crear un gráfico de pastel para cada usuario en top_30_usuarios\n",
        "for user in top_30_usuarios.index:\n",
        "    # Obtener el porcentaje de contribución del usuario en cada día\n",
        "    porcentaje_user_por_dia = tweets_df[tweets_df[\"user_name\"] == user].groupby(tweets_df['date'].dt.to_period('d')).count()[\"text\"].div(total_tweets_por_dia).fillna(0) * 100\n",
        "    \n",
        "    # Crear un gráfico de pastel para el usuario\n",
        "    fig, ax = plt.subplots()\n",
        "    ax.pie(porcentaje_user_por_dia, labels=porcentaje_user_por_dia.index.strftime(\"%m/%d/%Y\"), startangle=90, autopct='%1.1f%%')\n",
        "    ax.set_title(user)\n",
        "    plt.show()"
      ],
      "id": "VyhlSJEtufoj"
    },
    {
      "cell_type": "markdown",
      "metadata": {
        "id": "i4onM19tuiWb"
      },
      "source": [
        "## Filtrado de los usuarios para obtener al top 15 y relacionarlo con el país/ciudad al que pertenece"
      ],
      "id": "i4onM19tuiWb"
    },
    {
      "cell_type": "code",
      "execution_count": null,
      "metadata": {
        "id": "Rmpm9H-euj0h"
      },
      "outputs": [],
      "source": [
        "# Filtrar los tweets de los usuarios principales\n",
        "tweets_top_30_users = tweets_df[tweets_df[\"user_name\"].isin(top_30_users_list)]\n",
        "\n",
        "# Agrupar los tweets por país y usuario y contar cuántos tweets hay para cada combinación\n",
        "tweets_por_usuario_pais = tweets_top_30_users.groupby([\"user_location\", \"user_name\"])[\"text\"].count().reset_index()\n",
        "\n",
        "# Iterar sobre cada fila del dataframe y mostrar el nombre de usuario y el país\n",
        "for index, row in tweets_por_usuario_pais.iterrows():\n",
        "    print(f'El usuario {row[\"user_name\"]} es de {row[\"user_location\"]}')\n"
      ],
      "id": "Rmpm9H-euj0h"
    },
    {
      "cell_type": "markdown",
      "metadata": {
        "id": "cyFtqOLTuliq"
      },
      "source": [
        "## Graficación del top 15 usuarios con mayor número de tweets junto con su país/ciudad"
      ],
      "id": "cyFtqOLTuliq"
    },
    {
      "cell_type": "code",
      "execution_count": null,
      "metadata": {
        "id": "PV42TArFunSr"
      },
      "outputs": [],
      "source": [
        "# Filtrar los tweets de los usuarios principales\n",
        "tweets_top_30_users = tweets_df[tweets_df[\"user_name\"].isin(top_30_users_list)]\n",
        "\n",
        "# Crear el gráfico de dispersión\n",
        "sns.scatterplot(x=\"user_location\", y=\"user_name\", data=tweets_top_30_users)\n",
        "\n",
        "# Establecer el título y los nombres de los ejes\n",
        "plt.title(\"Usuarios de top_30_usuarios por país\")\n",
        "plt.xlabel(\"País\")\n",
        "plt.ylabel(\"Nombre de usuario\")\n",
        "\n",
        "# Rotar el texto del eje x\n",
        "plt.xticks(rotation=90)\n",
        "\n",
        "plt.show()\n"
      ],
      "id": "PV42TArFunSr"
    },
    {
      "cell_type": "markdown",
      "metadata": {
        "id": "Hj5BSoU0upPN"
      },
      "source": [
        "# Conclusiones"
      ],
      "id": "Hj5BSoU0upPN"
    },
    {
      "cell_type": "markdown",
      "metadata": {
        "id": "--JM_p3buqvv"
      },
      "source": [
        "Resultados: como se puede observar en la gráfica obtenida de las diferentes contribuciones de los usuarios en el total de tweets publicados por día, que aquellos usuarios que publican más tweets, pertenecientes al top 15 de usuarios con mayor número tweets, llegan a ser líderes de opinión durante el transcurso y son aquellos que en diferentes ocasiones provocan relevancia sobre diferentes temas. De la misma manera, la cantidad de tweets por país puede indicar los niveles de preocupación e interes en la pandemia en diferentes regiones del mundo. Y de la misma manera, existen usuarios del top 15 que pertenecen a los países con mayor número de tweets publicados. "
      ],
      "id": "--JM_p3buqvv"
    },
    {
      "cell_type": "markdown",
      "metadata": {
        "id": "kTTgtTiOu_e_"
      },
      "source": [
        "### ¿Es posible incluir el uso del algoritmo Kmeans para apoyar con la descripción de los datos?"
      ],
      "id": "kTTgtTiOu_e_"
    },
    {
      "cell_type": "markdown",
      "metadata": {
        "id": "xIfxKww4vAkA"
      },
      "source": [
        "Debido al contexto del objetivo no es necesario, ya que se trata de comparar información y no agruparla. De igual manera, sería mejor utilizar una matriz de correlación para saber como es que se relacionan el número de tweets por país junto con el número de tweets por usuario del top 15 usuarios con mayor número de tweets publicados. "
      ],
      "id": "xIfxKww4vAkA"
    },
    {
      "cell_type": "markdown",
      "metadata": {
        "id": "vcuGBvTzvm4f"
      },
      "source": [
        "## Herramientas utilizadas"
      ],
      "id": "vcuGBvTzvm4f"
    },
    {
      "cell_type": "markdown",
      "metadata": {
        "id": "gU9QpvZDvpQT"
      },
      "source": [
        "- Carga de datos en python con pandas\n",
        "- Visualización de estadística básica\n",
        "- Creación de plots para comparar diferente información. \n",
        "- Creación de gráficas de pastel\n",
        "- Manipulación de columnas de la base de datos"
      ],
      "id": "gU9QpvZDvpQT"
    },
    {
      "cell_type": "markdown",
      "metadata": {
        "id": "jhYe9FgHusgN"
      },
      "source": [],
      "id": "jhYe9FgHusgN"
    }
  ],
  "metadata": {
    "colab": {
      "provenance": []
    },
    "kernelspec": {
      "display_name": "Python 3 (ipykernel)",
      "language": "python",
      "name": "python3"
    },
    "language_info": {
      "codemirror_mode": {
        "name": "ipython",
        "version": 3
      },
      "file_extension": ".py",
      "mimetype": "text/x-python",
      "name": "python",
      "nbconvert_exporter": "python",
      "pygments_lexer": "ipython3",
      "version": "3.9.16"
    }
  },
  "nbformat": 4,
  "nbformat_minor": 5
}