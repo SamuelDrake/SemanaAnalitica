{
 "cells": [
  {
   "cell_type": "code",
   "execution_count": 3,
   "id": "a5b52915",
   "metadata": {},
   "outputs": [],
   "source": [
    "import math\n",
    "def findPrimes(n):\n",
    "    primes = []\n",
    "    for i in range(2, n+1):\n",
    "        isPrime = True\n",
    "        limit = int(math.sqrt(i))\n",
    "        for test in range (2,limit+1):\n",
    "            if i % test == 0:\n",
    "                isPrime = False\n",
    "                break\n",
    "        if isPrime:\n",
    "            primes.append(i)\n",
    "    return primes"
   ]
  },
  {
   "cell_type": "code",
   "execution_count": 4,
   "id": "d544ccb5",
   "metadata": {},
   "outputs": [
    {
     "name": "stdout",
     "output_type": "stream",
     "text": [
      "[2, 3, 5, 7, 11, 13, 17, 19, 23, 29, 31, 37, 41, 43, 47, 53, 59, 61, 67, 71, 73, 79, 83, 89, 97]\n"
     ]
    }
   ],
   "source": [
    "print(findPrimes(100))"
   ]
  },
  {
   "cell_type": "code",
   "execution_count": 5,
   "id": "923b87f5",
   "metadata": {},
   "outputs": [],
   "source": [
    "def crossProductA(a,b):\n",
    "    product = [a[1]*b[2] - a[2]*b[1], a[2]*b[0] - a[0]*b[2], a[0]*b[1] - a[1]*b[0]]\n",
    "    return product"
   ]
  },
  {
   "cell_type": "code",
   "execution_count": null,
   "id": "005e2ab0",
   "metadata": {},
   "outputs": [],
   "source": [
    "vectorA = [1, 0, 0]\n",
    "vectorB = [0, 1, 0]\n",
    "productoCruz = crossProductA(vectorA, vectorB)\n",
    "print(productoCruz)"
   ]
  },
  {
   "cell_type": "code",
   "execution_count": null,
   "id": "686f41b9",
   "metadata": {},
   "outputs": [],
   "source": []
  }
 ],
 "metadata": {
  "kernelspec": {
   "display_name": "Python 3 (ipykernel)",
   "language": "python",
   "name": "python3"
  },
  "language_info": {
   "codemirror_mode": {
    "name": "ipython",
    "version": 3
   },
   "file_extension": ".py",
   "mimetype": "text/x-python",
   "name": "python",
   "nbconvert_exporter": "python",
   "pygments_lexer": "ipython3",
   "version": "3.9.16"
  }
 },
 "nbformat": 4,
 "nbformat_minor": 5
}
